{
 "cells": [
  {
   "cell_type": "markdown",
   "metadata": {},
   "source": [
    "## 1. Welcome to Berkeley\n",
    "<p>It's 1973, and – as one of the top-ranked universities in the United States – Berkeley has attracted thousands of applicants to its graduate school. But how many made the cut?</p>\n",
    "<p>We will start off by loading the <code>UCBAdmissions</code> dataset. This shows the number of students – male and female – who were admitted or rejected from the six largest departments at Berkeley."
   ]
  },
  {
   "cell_type": "code",
   "execution_count": null,
   "metadata": {},
   "outputs": [],
   "source": [
    "library(tidyverse)\n",
    "# loading the dataset\n",
    "UCBAdmissions<-read_csv(\"UCBAdmissions.csv\")"
   ]
  },
  {
   "cell_type": "code",
   "execution_count": 5,
   "metadata": {},
   "outputs": [
    {
     "data": {
      "text/plain": [
       ", , Dept = A\n",
       "\n",
       "          Gender\n",
       "Admit      Male Female\n",
       "  Admitted  512     89\n",
       "  Rejected  313     19\n",
       "\n",
       ", , Dept = B\n",
       "\n",
       "          Gender\n",
       "Admit      Male Female\n",
       "  Admitted  353     17\n",
       "  Rejected  207      8\n",
       "\n",
       ", , Dept = C\n",
       "\n",
       "          Gender\n",
       "Admit      Male Female\n",
       "  Admitted  120    202\n",
       "  Rejected  205    391\n",
       "\n",
       ", , Dept = D\n",
       "\n",
       "          Gender\n",
       "Admit      Male Female\n",
       "  Admitted  138    131\n",
       "  Rejected  279    244\n",
       "\n",
       ", , Dept = E\n",
       "\n",
       "          Gender\n",
       "Admit      Male Female\n",
       "  Admitted   53     94\n",
       "  Rejected  138    299\n",
       "\n",
       ", , Dept = F\n",
       "\n",
       "          Gender\n",
       "Admit      Male Female\n",
       "  Admitted   22     24\n",
       "  Rejected  351    317\n"
      ]
     },
     "metadata": {},
     "output_type": "display_data"
    }
   ],
   "source": [
    "# Taking a look at the dataset\n",
    "UCBAdmissions"
   ]
  },
  {
   "cell_type": "markdown",
   "metadata": {},
   "source": [
    "<p>The dataset takes the unwieldly form of a three-dimensional array, we will convert it to tidy format using the <code>tidy</code> function from the <code>tidytext</code> package.</p>"
   ]
  },
  {
   "cell_type": "code",
   "execution_count": 6,
   "metadata": {},
   "outputs": [],
   "source": [
    "# Loading the broom package\n",
    "library(broom)\n",
    "# Laoding the tidytext package\n",
    "library(tidytext)"
   ]
  },
  {
   "cell_type": "code",
   "execution_count": 7,
   "metadata": {},
   "outputs": [
    {
     "name": "stdout",
     "output_type": "stream",
     "text": [
      "# A tibble: 24 x 4\n",
      "   Admit    Gender Dept      n\n",
      "   <chr>    <chr>  <chr> <dbl>\n",
      " 1 Admitted Male   A       512\n",
      " 2 Rejected Male   A       313\n",
      " 3 Admitted Female A        89\n",
      " 4 Rejected Female A        19\n",
      " 5 Admitted Male   B       353\n",
      " 6 Rejected Male   B       207\n",
      " 7 Admitted Female B        17\n",
      " 8 Rejected Female B         8\n",
      " 9 Admitted Male   C       120\n",
      "10 Rejected Male   C       205\n",
      "# ... with 14 more rows\n"
     ]
    }
   ],
   "source": [
    "# Converting UCBAdmissions to tidy format\n",
    "ucb_tidy<-tidytext::tidy(UCBAdmissions)\n",
    "print(ucb_tidy)"
   ]
  },
  {
   "cell_type": "markdown",
   "metadata": {},
   "source": [
    "## 2. Acceptance rate for men and women\n",
    "<p>The data is more readable now that it is in tidy format, but – since it is split by department and displays raw counts – it is difficult for us to infer any kind of gender bias. To do that, we need to aggregate over department and ask ourselves, overall, what <em>proportion</em> of men and women were accepted into Berkeley in 1973.</p>\n",
    "<p>Here we make use of the <code>dplyr</code> package that loads with the <code>tidyverse</code> package for all of our data manipulation tasks. We aggregate over department using the <code>group_by</code> function to get the total number of men and women who were accepted into or rejected from Berkeley that year, as well as the proportion accepted in each case. That will leave us in a better place to understand any accusations of gender bias.</p>"
   ]
  },
  {
   "cell_type": "code",
   "execution_count": 8,
   "metadata": {},
   "outputs": [
    {
     "name": "stdout",
     "output_type": "stream",
     "text": [
      "# A tibble: 2 x 4\n",
      "# Groups:   Gender [2]\n",
      "  Admit    Gender     n  prop\n",
      "  <chr>    <chr>  <dbl> <dbl>\n",
      "1 Admitted Female   557 0.304\n",
      "2 Admitted Male    1198 0.445\n"
     ]
    }
   ],
   "source": [
    "# Aggregating over department\n",
    "ucb_tidy_aggregated <- ucb_tidy %>% \n",
    "  group_by(Admit,Gender) %>% \n",
    "  summarize(n = sum(n)) %>% \n",
    "  ungroup() %>% \n",
    "  group_by(Gender) %>% \n",
    "  mutate(prop = n / sum(n)) %>% \n",
    "  filter(Admit==\"Admitted\")\n",
    "\n",
    "# Printing the aggregated dataset and proportion\n",
    "print(ucb_tidy_aggregated)"
   ]
  },
  {
   "cell_type": "markdown",
   "metadata": {},
   "source": [
    "## 3. Visualizing the discrepancy\n",
    "<p>From the previous task, we can see that <strong>44.5% of male applicants</strong> were accepted into Berkeley, as opposed to <strong>30.4% of female applicants</strong>. Now we can start to see the problem. Did Berkeley's graduate admissions department really discriminate against women that year?</p>\n",
    "<p>Before we consider alternative explanations, let's visualize the discrepancy through a simple bar chart using <code>ggplot2</code>. This won't add much to our understanding of the problem right now, but it will act as a useful reference point later on.</p>\n",
    "<p>For clarity, we will format acceptance rate as a percentage using the <code>percent</code> function from the <code>scales</code> package.</p>"
   ]
  },
  {
   "cell_type": "code",
   "execution_count": 12,
   "metadata": {},
   "outputs": [
    {
     "data": {
      "image/png": "[encoded data removed]",
      "text/plain": [
       "plot without title"
      ]
     },
     "metadata": {},
     "output_type": "display_data"
    }
   ],
   "source": [
    "# Loading the ggplot2 and scales packages\n",
    "library(scales)\n",
    "library(ggplot2)\n",
    "# Preparing the bar plot\n",
    "gg_bar <- ucb_tidy_aggregated %>% \n",
    "    ggplot(aes(x = Gender, y = prop, fill = Gender)) +\n",
    "    geom_col() +\n",
    "    geom_text(aes(label =percent(prop)), vjust = -1) +\n",
    "    labs(title = \"Acceptance rate of male and female applicants\",\n",
    "         subtitle = \"University of California, Berkeley (1973)\",\n",
    "         y = \"Acceptance rate\") +\n",
    "    scale_y_continuous(labels = scales::percent, limits = c(0,0.5)) +\n",
    "    guides(fill = FALSE)\n",
    "\n",
    "# Printing the bar plot\n",
    "print(gg_bar)"
   ]
  },
  {
   "cell_type": "markdown",
   "metadata": {},
   "source": [
    "## 4. Acceptance rate by department\n",
    "<p>The bar plot confirms what we already knew – a higher proportion of men were accepted than women. But what happens when we separate the graph out by department?</p>\n",
    "<p>Now we can return to our <code>ucb_tidy</code> dataset. After calculating the proportion of acceptances/rejections, we will plot a separate chart for each department using the <code>facet_wrap()</code> function in <code>ggplot2</code>. This will give us an idea of how acceptance rates differ by department, as well as by gender.</p>"
   ]
  },
  {
   "cell_type": "code",
   "execution_count": 13,
   "metadata": {},
   "outputs": [
    {
     "name": "stdout",
     "output_type": "stream",
     "text": [
      "# A tibble: 12 x 5\n",
      "# Groups:   Gender, Dept [12]\n",
      "   Admit    Gender Dept      n   prop\n",
      "   <chr>    <chr>  <chr> <dbl>  <dbl>\n",
      " 1 Admitted Male   A       512 0.621 \n",
      " 2 Admitted Female A        89 0.824 \n",
      " 3 Admitted Male   B       353 0.630 \n",
      " 4 Admitted Female B        17 0.68  \n",
      " 5 Admitted Male   C       120 0.369 \n",
      " 6 Admitted Female C       202 0.341 \n",
      " 7 Admitted Male   D       138 0.331 \n",
      " 8 Admitted Female D       131 0.349 \n",
      " 9 Admitted Male   E        53 0.277 \n",
      "10 Admitted Female E        94 0.239 \n",
      "11 Admitted Male   F        22 0.0590\n",
      "12 Admitted Female F        24 0.0704\n"
     ]
    },
    {
     "data": {
      "image/png": "[encoded data removed]",
      "text/plain": [
       "plot without title"
      ]
     },
     "metadata": {},
     "output_type": "display_data"
    }
   ],
   "source": [
    "# Calculating acceptance/rejection rate\n",
    "ucb_by_dept <- ucb_tidy %>% \n",
    "    group_by(Gender,Dept) %>% \n",
    "    mutate(prop = n / sum(n)) %>% \n",
    "    filter(Admit == \"Admitted\")\n",
    "\n",
    "# Printing the dataset\n",
    "print(ucb_by_dept)\n",
    "\n",
    "# Preparing the bar plot for each department\n",
    "gg_bar_faceted <- ucb_by_dept %>% \n",
    "  ggplot(aes(Gender, prop, fill = Gender)) +\n",
    "  geom_col() +\n",
    "  geom_text(aes(label = percent(prop)), vjust = -1) +\n",
    "  labs(title = \"Acceptance rate of male and female applicants\",\n",
    "       subtitle = \"University of California, Berkeley (1973)\",\n",
    "       y = \"Acceptance rate\") +\n",
    "  scale_y_continuous(labels = scales::percent, limits = c(0, 1)) +\n",
    "  facet_wrap(~Dept) +\n",
    "  guides(fill=FALSE)\n",
    "\n",
    "# Printing the bar plot for each department\n",
    "print(gg_bar_faceted)"
   ]
  },
  {
   "cell_type": "markdown",
   "metadata": {},
   "source": [
    "## 5. Alternative explanations\n",
    "<p>Now that we have separated out our analysis by department, the interpretation has changed rather dramatically. Although men were indeed more likely to be admitted into Departments C and E, women were more likely to be admitted into all other departments. So what's really going on here?</p>\n",
    "<p>If you turn your attention to the first two plots, you can see that Department A and B were quite easy to get into. However, relatively few women applied to these departments – only 108 women applied to Department A, as opposed to 825 men!</p>\n",
    "<p>At this stage, we can hypothesise that the effect of gender on acceptance is null when you control for department. We can test that hypothesis using <strong>binary logistic regression</strong>, but first we need to de-aggregate the dataset so that each row represents one student. That should leave us with 4,526 rows – one row for each student who applied to Berkeley that year.</p>"
   ]
  },
  {
   "cell_type": "code",
   "execution_count": 14,
   "metadata": {},
   "outputs": [
    {
     "data": {
      "text/html": [
       "4526"
      ],
      "text/latex": [
       "4526"
      ],
      "text/markdown": [
       "4526"
      ],
      "text/plain": [
       "[1] 4526"
      ]
     },
     "metadata": {},
     "output_type": "display_data"
    }
   ],
   "source": [
    "# Defining function that repeats each row in each column n times\n",
    "multiply_rows <- function(column,n) {\n",
    "  rep(column,n)\n",
    "}\n",
    "\n",
    "# Creating a new de-aggregated data frame using the multiply_rows function\n",
    "ucb_full <- data.frame(Admit = multiply_rows(ucb_tidy$Admit, ucb_tidy$n),\n",
    "                      Gender = multiply_rows(ucb_tidy$Gender, ucb_tidy$n),\n",
    "                      Dept = multiply_rows(ucb_tidy$Dept, ucb_tidy$n))\n",
    "\n",
    "# Checking the number of rows equals the number of students\n",
    "nrow(ucb_full)"
   ]
  },
  {
   "cell_type": "markdown",
   "metadata": {},
   "source": [
    "## 6. Binary logistic regression: Part I\n",
    "<p>The data is now in the right format for us to do some hypothesis testing. Great! But first let's try to predict admittance using gender alone. We will use the built-in <code>glm()</code> function to fit a generalised linear model, making sure to set <code>family = \"binomial\"</code> because the outcome variable is binary (<code>Admitted</code> or <code>Rejected</code>).</p>\n",
    "<p>By default, <code>Admit</code> is coded such that <code>Admitted</code> is level 1 and <code>Rejected</code> is level 2 (because of their alphabetical order). Since <code>glm()</code> will assume that level 2 represents 'success', we will reverse the coding of <code>Admit</code> so we are predicting the probability of admittance rather than rejection.</p>\n",
    "<p>To change the coding of a variable, you can use the <code>fct_relevel()</code> function from the <code>forcats</code> package.</p>"
   ]
  },
  {
   "cell_type": "code",
   "execution_count": 20,
   "metadata": {},
   "outputs": [
    {
     "data": {
      "text/plain": [
       "\n",
       "Call:\n",
       "glm(formula = Admit ~ Gender, family = \"binomial\", data = ucb_full)\n",
       "\n",
       "Deviance Residuals: \n",
       "    Min       1Q   Median       3Q      Max  \n",
       "-1.0855  -1.0855  -0.8506   1.2722   1.5442  \n",
       "\n",
       "Coefficients:\n",
       "            Estimate Std. Error z value Pr(>|z|)    \n",
       "(Intercept) -0.83049    0.05077 -16.357   <2e-16 ***\n",
       "GenderMale   0.61035    0.06389   9.553   <2e-16 ***\n",
       "---\n",
       "Signif. codes:  0 '***' 0.001 '**' 0.01 '*' 0.05 '.' 0.1 ' ' 1\n",
       "\n",
       "(Dispersion parameter for binomial family taken to be 1)\n",
       "\n",
       "    Null deviance: 6044.3  on 4525  degrees of freedom\n",
       "Residual deviance: 5950.9  on 4524  degrees of freedom\n",
       "AIC: 5954.9\n",
       "\n",
       "Number of Fisher Scoring iterations: 4\n"
      ]
     },
     "metadata": {},
     "output_type": "display_data"
    }
   ],
   "source": [
    "# Loading the forcats library\n",
    "library(forcats)\n",
    "\n",
    "# Reversing the coding of the Admit variable\n",
    "ucb_full$Admit <- fct_relevel(ucb_full$Admit,\"Rejected\",\"Admitted\")\n",
    "\n",
    "# Running the regression\n",
    "glm_gender <- glm(Admit ~ Gender, data = ucb_full, family = \"binomial\")\n",
    "\n",
    "# Summarizing the results\n",
    "summary(glm_gender)"
   ]
  },
  {
   "cell_type": "markdown",
   "metadata": {},
   "source": [
    "## 7. Binary logistic regression: Part II\n",
    "<p>Sure enough, when you predict the probability of admission as a function of gender alone, the effect is statistically significant (p &lt; 0.01). Specifically, you are <code>exp(0.61035) = 1.84</code> times more likely to be admitted if you are a man. However, what happens if we control for department?</p>"
   ]
  },
  {
   "cell_type": "code",
   "execution_count": 21,
   "metadata": {},
   "outputs": [
    {
     "data": {
      "text/plain": [
       "\n",
       "Call:\n",
       "glm(formula = Admit ~ Gender + Dept, family = \"binomial\", data = ucb_full)\n",
       "\n",
       "Deviance Residuals: \n",
       "    Min       1Q   Median       3Q      Max  \n",
       "-1.4773  -0.9306  -0.3741   0.9588   2.3613  \n",
       "\n",
       "Coefficients:\n",
       "            Estimate Std. Error z value Pr(>|z|)    \n",
       "(Intercept)  0.68192    0.09911   6.880 5.97e-12 ***\n",
       "GenderMale  -0.09987    0.08085  -1.235    0.217    \n",
       "DeptB       -0.04340    0.10984  -0.395    0.693    \n",
       "DeptC       -1.26260    0.10663 -11.841  < 2e-16 ***\n",
       "DeptD       -1.29461    0.10582 -12.234  < 2e-16 ***\n",
       "DeptE       -1.73931    0.12611 -13.792  < 2e-16 ***\n",
       "DeptF       -3.30648    0.16998 -19.452  < 2e-16 ***\n",
       "---\n",
       "Signif. codes:  0 '***' 0.001 '**' 0.01 '*' 0.05 '.' 0.1 ' ' 1\n",
       "\n",
       "(Dispersion parameter for binomial family taken to be 1)\n",
       "\n",
       "    Null deviance: 6044.3  on 4525  degrees of freedom\n",
       "Residual deviance: 5187.5  on 4519  degrees of freedom\n",
       "AIC: 5201.5\n",
       "\n",
       "Number of Fisher Scoring iterations: 5\n"
      ]
     },
     "metadata": {},
     "output_type": "display_data"
    }
   ],
   "source": [
    "# Running the regression, including Dept as an explanatory variable\n",
    "glm_genderdept <- glm(Admit ~ Gender + Dept, data = ucb_full, family = \"binomial\")\n",
    "\n",
    "# Summarizing the results\n",
    "summary(glm_genderdept)"
   ]
  },
  {
   "cell_type": "markdown",
   "metadata": {},
   "source": [
    "## 8. Behold Simpson's paradox\n",
    "<p>Finally, we can see Simpson's paradox at play – when you control for the effect of department on the probability of admission, the effect of gender disappears. In fact, it even reverses, suggesting that – controlling for department – you were actually more likely to be admitted as a woman! However, this effect is not statistically significant (p &gt; 0.05), so we conclude that there was not a campus-wide bias against applicants of either gender in 1973.</p>\n",
    "<p>That said, individual departments often handle their own admissions processes, so it is plausible that bias exists in one department but not another. Let's take a look at Department A, where 82.4% of women were admitted but only 62.1% of men. Is the difference statistically significant?</p>"
   ]
  },
  {
   "cell_type": "code",
   "execution_count": 22,
   "metadata": {},
   "outputs": [
    {
     "data": {
      "text/plain": [
       "\n",
       "Call:\n",
       "glm(formula = Admit ~ Gender, family = \"binomial\", data = dept_a)\n",
       "\n",
       "Deviance Residuals: \n",
       "    Min       1Q   Median       3Q      Max  \n",
       "-1.8642  -1.3922   0.9768   0.9768   0.9768  \n",
       "\n",
       "Coefficients:\n",
       "            Estimate Std. Error z value Pr(>|z|)    \n",
       "(Intercept)   1.5442     0.2527   6.110 9.94e-10 ***\n",
       "GenderMale   -1.0521     0.2627  -4.005 6.21e-05 ***\n",
       "---\n",
       "Signif. codes:  0 '***' 0.001 '**' 0.01 '*' 0.05 '.' 0.1 ' ' 1\n",
       "\n",
       "(Dispersion parameter for binomial family taken to be 1)\n",
       "\n",
       "    Null deviance: 1214.7  on 932  degrees of freedom\n",
       "Residual deviance: 1195.7  on 931  degrees of freedom\n",
       "AIC: 1199.7\n",
       "\n",
       "Number of Fisher Scoring iterations: 4\n"
      ]
     },
     "metadata": {},
     "output_type": "display_data"
    }
   ],
   "source": [
    "# Filtering for Department A\n",
    "dept_a <- ucb_full %>%\n",
    "filter(Dept==\"A\")\n",
    "\n",
    "# Running the regression\n",
    "glm_gender_depta <- glm(Admit ~ Gender, data = dept_a, family = \"binomial\")\n",
    "\n",
    "# Summarizing the results\n",
    "summary(glm_gender_depta)"
   ]
  },
  {
   "cell_type": "markdown",
   "metadata": {},
   "source": [
    "## 9. Bias or discrimination?\n",
    "<p>Well then! If we take Department A in isolation, we find there is a statistically significant bias in favour of women. So does that mean that the department discriminated against men?</p>\n",
    "<p>Not necessarily. After all, the bias might exist simply because the female applicants to Department A were better qualified that year. In their article dealing with this issue, Bickel, Hammel &amp; O'Connell (1975) define discrimination as \"the exercise of decision influenced by the sex of the applicant when that is immaterial to the qualifications for entry\". Since we do not have any data on the respective qualifications of the candidates, we cannot say whether any gender bias in their admissions process amounted to discrimination.</p>\n",
    "<p>Although now more than 40 years old, the Berkeley problem is a useful reminder about the dangers of aggregation and omitted variable bias, especially in relation to matters of such legal and ethical importance as discrimination. Where bias does exist – as it does in the case of Department A – it is always worth considering whether there are any other factors that could explain the discrepancy.</p>"
   ]
  }
 ],
 "metadata": {
  "kernelspec": {
   "display_name": "R",
   "language": "R",
   "name": "ir"
  },
  "language_info": {
   "codemirror_mode": "r",
   "file_extension": ".r",
   "mimetype": "text/x-r-source",
   "name": "R",
   "pygments_lexer": "r",
   "version": "3.5.1"
  }
 },
 "nbformat": 4,
 "nbformat_minor": 2
}
